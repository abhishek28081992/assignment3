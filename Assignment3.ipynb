{
 "cells": [
  {
   "cell_type": "code",
   "execution_count": 2,
   "id": "aec89b22-ec70-434c-aaed-00106bbf53ae",
   "metadata": {},
   "outputs": [
    {
     "name": "stdout",
     "output_type": "stream",
     "text": [
      "0\n",
      "1\n",
      "2\n",
      "3\n",
      "4\n",
      "5\n",
      "6\n",
      "7\n",
      "8\n",
      "9\n",
      "[0, 1, 2, 3, 4, 5, 6, 7, 8, 9]\n"
     ]
    }
   ],
   "source": [
    "#Answer1\n",
    "#When would you use a for loop and when a while loop?\n",
    "#Difference Between a For Loop and While Loop\n",
    "#For Loop: A for loop is an iteration method that is best used when you know the number of iterations ahead of time. ...\n",
    "#While Loop: A while loop is an iteration method that is best used when you don't know the number of iterations ahead of time.\n",
    "\n",
    "\n",
    "#This piece of code prints out integers between 0 and 9 .\n",
    "\n",
    "n = 0\n",
    "while n < 10: # while n is less than 10,\n",
    "    print(n) # print out the value of n \n",
    "    n += 1 # \n",
    "\n",
    " #   Here’s what’s happening in this example:\n",
    "#The initial value of n is 0. The program first checks whether n is more than 10. Since this is true, the loop body runs\n",
    "#Within the loop, we are first printing out the value of n. Later on, we are incrementing it by 1.\n",
    "#When the body of the loop has finished, program execution evaluates the condition again. Because it is still true, the body executes again.\n",
    "#This continues until n exceeds 10. At this point, when the expression is tested, it is false, and the loop halts.\n",
    "\n",
    "#To demonstrate for loops, let’s use a numeric range loop:\n",
    "\n",
    "for i in range(10):  # collection of numbers from 0 to 9\n",
    "    print(i)\n",
    "#In this piece of code, we used the range function to create a collection of numbers from 0 to 9. \n",
    "#Later on, we used the print function to log out the value of our loop variable, i. \n",
    "#As a result, this will output the list of numbers ranging from 0 to 9.\n",
    "#The range(<end>) method returns an iterable that returns integers starting with 0, up to but not including <end> ."
   ]
  },
  {
   "cell_type": "code",
   "execution_count": 29,
   "id": "525cdd58-7aad-4d2e-8dfd-dd436d708ed0",
   "metadata": {},
   "outputs": [
    {
     "name": "stdout",
     "output_type": "stream",
     "text": [
      "The sum of 10 natural numner is 55\n",
      "The product of 10 natural numner is 3628800\n",
      "The sum of 10 natural numner is 55\n",
      "The product of 10 natural numner is 3628800\n"
     ]
    }
   ],
   "source": [
    "#Answer2\n",
    "#sum and product of 10 natural numbers in python using for loop\n",
    "sum = 0\n",
    "product =1 \n",
    "for i in range (1,11) :\n",
    "    sum += i\n",
    "    product *=i\n",
    "print(\"The sum of 10 natural numner is\", sum)\n",
    "print(\"The product of 10 natural numner is\",product)\n",
    "\n",
    "#sum and product of 10 natural numbers in python using while loop\n",
    "sum = 0\n",
    "product =1\n",
    "i = 1\n",
    "\n",
    "while i <= 10 :\n",
    "    sum += i\n",
    "    product *=i\n",
    "    i = i + 1\n",
    "print(\"The sum of 10 natural numner is\", sum)\n",
    "print(\"The product of 10 natural numner is\",product)    \n"
   ]
  },
  {
   "cell_type": "code",
   "execution_count": 35,
   "id": "56dea2f0-5648-4c9b-b9d5-77036c19f8f3",
   "metadata": {},
   "outputs": [
    {
     "name": "stdin",
     "output_type": "stream",
     "text": [
      "Enter the electricity consumed 310\n"
     ]
    },
    {
     "name": "stdout",
     "output_type": "stream",
     "text": [
      "The bill of Electricity_consumed above 300 units is 2250.0\n"
     ]
    }
   ],
   "source": [
    "#Answer3\n",
    "Electricity_consumed = int(input(\"Enter the electricity consumed\"))\n",
    "if  Electricity_consumed <= 100 :\n",
    "    Electricity_consumed = Electricity_consumed * 4.5\n",
    "    print(\"The bill of Electricity_consumed for the first 100 units is\", Electricity_consumed)\n",
    "elif Electricity_consumed <= 200 :\n",
    "    Electricity_consumed = 100 * 4.5  + (Electricity_consumed - 100) * 6\n",
    "    print(\"The bill of Electricity_consumed for the 100 upto 200 units is\", Electricity_consumed)\n",
    "elif Electricity_consumed <= 300 :\n",
    "    Electricity_consumed = 100 * 4.5 +  100 * 6  + (Electricity_consumed - 200) * 10\n",
    "    print(\"The bill of Electricity_consumed for the 200 upto 300 units is\", Electricity_consumed)  \n",
    "elif Electricity_consumed  > 300 :\n",
    "    Electricity_consumed = 100 * 4.5 +  100 * 6  + 100 * 10 + (Electricity_consumed- 300) * 20\n",
    "    print(\"The bill of Electricity_consumed above 300 units is\", Electricity_consumed)\n",
    "    "
   ]
  },
  {
   "cell_type": "code",
   "execution_count": 9,
   "id": "a75e1094-5a72-4ea1-9b52-3448b1f17538",
   "metadata": {},
   "outputs": [
    {
     "name": "stdout",
     "output_type": "stream",
     "text": [
      "The list of cubes that are divisible by 4 or 5 [8, 64, 125, 216, 512, 1000, 1728, 2744, 3375, 4096, 5832, 8000, 10648, 13824, 15625, 17576, 21952, 27000, 32768, 39304, 42875, 46656, 54872, 64000, 74088, 85184, 91125, 97336, 110592, 125000, 140608, 157464, 166375, 175616, 195112, 216000, 238328, 262144, 274625, 287496, 314432, 343000, 373248, 405224, 421875, 438976, 474552, 512000, 551368, 592704, 614125, 636056, 681472, 729000, 778688, 830584, 857375, 884736, 941192, 1000000]\n"
     ]
    }
   ],
   "source": [
    "#Answer4\n",
    "#using for loop\n",
    "cube_divisible = []\n",
    "number = []\n",
    "\n",
    "for i in range (1,101):\n",
    "    number.append(i)\n",
    "    cube = i ** 3 \n",
    "    if cube % 4 == 0 or cube % 5 == 0:\n",
    "        cube_divisible.append(cube)\n",
    "print(\"The list of cubes that are divisible by 4 or 5\", cube_divisible)    \n",
    "\n"
   ]
  },
  {
   "cell_type": "code",
   "execution_count": 7,
   "id": "edde0aec-8328-4fbb-9f40-f8b9d1b2ac09",
   "metadata": {},
   "outputs": [
    {
     "name": "stdout",
     "output_type": "stream",
     "text": [
      "The list of cubes that are divisible by 4 or 5 [8, 64, 125, 216, 512, 1000, 1728, 2744, 3375, 4096, 5832, 8000, 10648, 13824, 15625, 17576, 21952, 27000, 32768, 39304, 42875, 46656, 54872, 64000, 74088, 85184, 91125, 97336, 110592, 125000, 140608, 157464, 166375, 175616, 195112, 216000, 238328, 262144, 274625, 287496, 314432, 343000, 373248, 405224, 421875, 438976, 474552, 512000, 551368, 592704, 614125, 636056, 681472, 729000, 778688, 830584, 857375, 884736, 941192, 1000000]\n"
     ]
    }
   ],
   "source": [
    "#using while loop\n",
    "cube_divisible = []\n",
    "number = []\n",
    "i = 1\n",
    "\n",
    "while i <= 100:\n",
    "    number.append(i)\n",
    "    cube = i ** 3 \n",
    "    if cube % 4 ==0 or cube % 5 == 0:\n",
    "        cube_divisible.append(cube)\n",
    "    i +=1\n",
    "print(\"The list of cubes that are divisible by 4 or 5\", cube_divisible)  "
   ]
  },
  {
   "cell_type": "code",
   "execution_count": 10,
   "id": "9870c57c-851a-4a5c-9089-a90cd98f1e92",
   "metadata": {},
   "outputs": [
    {
     "name": "stdout",
     "output_type": "stream",
     "text": [
      "The number of vowels in the string is: 12\n"
     ]
    }
   ],
   "source": [
    "#Answer5\n",
    "string = \"I want to become a data scientist\"\n",
    "vowels = \"aeiouAEIOU\"\n",
    "count = 0 \n",
    "\n",
    "for char in string:\n",
    "    if char in vowels:\n",
    "        count +=1\n",
    "print(\"The number of vowels in the string is:\", count)        "
   ]
  },
  {
   "cell_type": "code",
   "execution_count": null,
   "id": "19601753-7895-4b1d-9e35-3753bcd9a56e",
   "metadata": {},
   "outputs": [],
   "source": []
  }
 ],
 "metadata": {
  "kernelspec": {
   "display_name": "Python 3 (ipykernel)",
   "language": "python",
   "name": "python3"
  },
  "language_info": {
   "codemirror_mode": {
    "name": "ipython",
    "version": 3
   },
   "file_extension": ".py",
   "mimetype": "text/x-python",
   "name": "python",
   "nbconvert_exporter": "python",
   "pygments_lexer": "ipython3",
   "version": "3.10.8"
  }
 },
 "nbformat": 4,
 "nbformat_minor": 5
}
